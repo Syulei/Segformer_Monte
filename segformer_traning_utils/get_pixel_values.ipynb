{
 "cells": [
  {
   "cell_type": "code",
   "execution_count": 2,
   "metadata": {},
   "outputs": [
    {
     "name": "stdout",
     "output_type": "stream",
     "text": [
      "Unique pixel values: [ 0 16 20]\n"
     ]
    }
   ],
   "source": [
    "import cv2\n",
    "import numpy as np\n",
    "\n",
    "# Read the image in grayscale mode\n",
    "image_path = '/home/bikram/Desktop/VIT_MODEL/SODA-20240621T133007Z-001/SODA/InfraredSemanticLabel/SegmentationClassOne/train_00000006.png'\n",
    "image = cv2.imread(image_path, cv2.IMREAD_GRAYSCALE)\n",
    "\n",
    "# Get the unique pixel values\n",
    "unique_pixel_values = np.unique(image)\n",
    "\n",
    "print(\"Unique pixel values:\", unique_pixel_values)"
   ]
  },
  {
   "cell_type": "code",
   "execution_count": 7,
   "metadata": {},
   "outputs": [
    {
     "name": "stdout",
     "output_type": "stream",
     "text": [
      "Images and masks have been copied and renamed successfully.\n"
     ]
    }
   ],
   "source": [
    "import os\n",
    "import shutil\n",
    "\n",
    "# Define the paths to the folders\n",
    "original_images_folder = '/home/bikram/Desktop/VIT_MODEL/SODA-20240621T133007Z-001/SODA/InfraredSemanticLabel/JPEGImages'\n",
    "semantic_masks_folder = '/home/bikram/Desktop/VIT_MODEL/SODA-20240621T133007Z-001/SODA/InfraredSemanticLabel/SegmentationClassOne'\n",
    "output_folder = '/home/bikram/Desktop/VIT_MODEL/SODA-20240621T133007Z-001/SODA/VICK_SYU_MODIFICATION'\n",
    "\n",
    "# Create the output folder if it doesn't exist\n",
    "if not os.path.exists(output_folder):\n",
    "    os.makedirs(output_folder)\n",
    "\n",
    "# Copy original images to the output folder\n",
    "for filename in os.listdir(original_images_folder):\n",
    "    src_path = os.path.join(original_images_folder, filename)\n",
    "    dst_path = os.path.join(output_folder, filename)\n",
    "    shutil.copy(src_path, dst_path)\n",
    "\n",
    "# Copy and rename mask images to the output folder\n",
    "for filename in os.listdir(semantic_masks_folder):\n",
    "    src_path = os.path.join(semantic_masks_folder, filename)\n",
    "    name, ext = os.path.splitext(filename)\n",
    "    new_filename = f\"{name}_mask{ext}\"\n",
    "    dst_path = os.path.join(output_folder, new_filename)\n",
    "    shutil.copy(src_path, dst_path)\n",
    "\n",
    "print(\"Images and masks have been copied and renamed successfully.\")\n"
   ]
  },
  {
   "cell_type": "code",
   "execution_count": 9,
   "metadata": {},
   "outputs": [
    {
     "name": "stdout",
     "output_type": "stream",
     "text": [
      "2168\n",
      "Files have been split into train, test, and val folders successfully.\n",
      "Train: 1517 pairs, Test: 433 pairs, Val: 218 pairs\n"
     ]
    }
   ],
   "source": [
    "import os\n",
    "import shutil\n",
    "import random\n",
    "\n",
    "# Define the paths to the folders\n",
    "output_folder = '/home/bikram/Desktop/VIT_MODEL/SODA-20240621T133007Z-001/SODA/VICK_SYU_MODIFICATION'\n",
    "train_folder = os.path.join(output_folder, 'train')\n",
    "test_folder = os.path.join(output_folder, 'test')\n",
    "val_folder = os.path.join(output_folder, 'val')\n",
    "\n",
    "# Create the subfolders if they don't exist\n",
    "os.makedirs(train_folder, exist_ok=True)\n",
    "os.makedirs(test_folder, exist_ok=True)\n",
    "os.makedirs(val_folder, exist_ok=True)\n",
    "\n",
    "# List all files in the output folder\n",
    "all_files = [f for f in os.listdir(output_folder) if os.path.isfile(os.path.join(output_folder, f))]\n",
    "\n",
    "# Filter out mask files and pair them with their corresponding images\n",
    "images = [f for f in all_files if not f.endswith('_mask.png')]\n",
    "image_mask_pairs = [(img, img.replace('.png', '_mask.png')) for img in images]\n",
    "\n",
    "# Shuffle the image-mask pairs to ensure randomness\n",
    "random.shuffle(image_mask_pairs)\n",
    "\n",
    "# Define split ratios\n",
    "train_ratio = 0.7\n",
    "test_ratio = 0.2\n",
    "val_ratio = 0.1\n",
    "\n",
    "# Calculate the number of pairs for each set\n",
    "total_pairs = len(image_mask_pairs)\n",
    "print(total_pairs)\n",
    "train_count = int(total_pairs * train_ratio)\n",
    "test_count = int(total_pairs * test_ratio)\n",
    "val_count = total_pairs - train_count - test_count\n",
    "\n",
    "# Split the pairs\n",
    "train_pairs = image_mask_pairs[:train_count]\n",
    "test_pairs = image_mask_pairs[train_count:train_count + test_count]\n",
    "val_pairs = image_mask_pairs[train_count + test_count:]\n",
    "\n",
    "# Function to copy files to the respective folder\n",
    "def copy_files(pairs, destination_folder):\n",
    "    for img, mask in pairs:\n",
    "        src_img_path = os.path.join(output_folder, img)\n",
    "        src_mask_path = os.path.join(output_folder, mask)\n",
    "        dst_img_path = os.path.join(destination_folder, img)\n",
    "        dst_mask_path = os.path.join(destination_folder, mask)\n",
    "\n",
    "        \n",
    "        if os.path.exists(src_img_path):\n",
    "            shutil.copy(src_img_path, dst_img_path)\n",
    "        if os.path.exists(src_mask_path):\n",
    "            shutil.copy(src_mask_path, dst_mask_path)\n",
    "\n",
    "# Copy pairs to the respective folders\n",
    "copy_files(train_pairs, train_folder)\n",
    "copy_files(test_pairs, test_folder)\n",
    "copy_files(val_pairs, val_folder)\n",
    "\n",
    "print(f\"Files have been split into train, test, and val folders successfully.\")\n",
    "print(f\"Train: {len(train_pairs)} pairs, Test: {len(test_pairs)} pairs, Val: {len(val_pairs)} pairs\")\n"
   ]
  },
  {
   "cell_type": "code",
   "execution_count": null,
   "metadata": {},
   "outputs": [],
   "source": []
  }
 ],
 "metadata": {
  "kernelspec": {
   "display_name": "Python 3",
   "language": "python",
   "name": "python3"
  },
  "language_info": {
   "codemirror_mode": {
    "name": "ipython",
    "version": 3
   },
   "file_extension": ".py",
   "mimetype": "text/x-python",
   "name": "python",
   "nbconvert_exporter": "python",
   "pygments_lexer": "ipython3",
   "version": "3.9.16"
  }
 },
 "nbformat": 4,
 "nbformat_minor": 2
}
